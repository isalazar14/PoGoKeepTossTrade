{
 "metadata": {
  "language_info": {
   "codemirror_mode": {
    "name": "ipython",
    "version": 3
   },
   "file_extension": ".py",
   "mimetype": "text/x-python",
   "name": "python",
   "nbconvert_exporter": "python",
   "pygments_lexer": "ipython3",
   "version": "3.8.5-final"
  },
  "orig_nbformat": 2,
  "kernelspec": {
   "name": "python_defaultSpec_1598606997213",
   "display_name": "Python 3.8.5 64-bit"
  }
 },
 "nbformat": 4,
 "nbformat_minor": 2,
 "cells": [
  {
   "cell_type": "code",
   "execution_count": 1,
   "metadata": {},
   "outputs": [],
   "source": [
    "import pandas as pd\n",
    "import os\n",
    "os.chdir(\"/Users/Ismel/Google Drive/Coding/Projects/pokemon_go_evaluator\")\n",
    "\n",
    "cwd = os.getcwd()\n",
    "\n",
    "# files = ['families','evolution_stages', 'species', 'forms', 'pokemon_details', 'types', 'ivs', 'levels_multipliers_cost']\n",
    "families = pd.read_csv(os.path.join(cwd,'db', 'initial_data', 'families.csv'),index_col=\"family_id\")\n",
    "stages = pd.read_csv(os.path.join(cwd,'db', 'initial_data', 'evolution_stages.csv'),index_col=\"stage_id\")\n",
    "pokemon = pd.read_csv(os.path.join(cwd,'db', 'initial_data', 'species.csv'),index_col=\"pokemon_id\")\n",
    "forms = pd.read_csv(os.path.join(cwd,'db', 'initial_data', 'forms.csv'),index_col=\"form_id\")\n",
    "types = pd.read_csv(os.path.join(cwd,'db', 'initial_data', 'types.csv'),index_col=\"type_id\")\n",
    "ivs = pd.read_csv(os.path.join(cwd,'db', 'initial_data', 'ivs.csv'),index_col=\"iv_id\")\n",
    "levels = pd.read_csv(os.path.join(cwd,'db', 'initial_data', 'levels_multipliers_cost.csv'),index_col=\"level\")\n",
    "details = pd.read_csv(os.path.join(cwd,'db', 'initial_data', 'pokemon_details.csv'))\n",
    "# details.index = pd.MultiIndex.from_arrays(details[[\"pokemon_id\",\"form_id\"]].values.T)\n",
    "gl_ul_stats = pd.read_csv(os.path.join(cwd,'db', 'initial_data', 'pokemon_ivs_gl_ul_stats.csv'))"
   ]
  },
  {
   "cell_type": "code",
   "execution_count": 9,
   "metadata": {},
   "outputs": [],
   "source": [
    "# creating max and min tables for GL and UL stats\n",
    "# source: https://stackoverflow.com/questions/32459325/python-pandas-dataframe-select-row-by-max-value-in-group/32459442\n",
    "# other sources: https://stackoverflow.com/questions/15705630/get-the-rows-which-have-the-max-count-in-groups-using-groupby\n",
    "gl_sp_max = gl_ul_stats.loc[gl_ul_stats.groupby(['pokemon_form_id'])['gl_stat_product'].idxmax()]\n",
    "gl_sp_min = gl_ul_stats.loc[gl_ul_stats.groupby(['pokemon_form_id'])['gl_stat_product'].idxmin()]\n"
   ]
  },
  {
   "cell_type": "code",
   "execution_count": null,
   "metadata": {},
   "outputs": [],
   "source": []
  }
 ]
}